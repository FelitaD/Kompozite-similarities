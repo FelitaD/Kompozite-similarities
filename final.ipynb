{
 "cells": [
  {
   "cell_type": "code",
   "execution_count": 1,
   "id": "0f3c46bd-614a-46af-8dcc-9321a78e3bbd",
   "metadata": {},
   "outputs": [
    {
     "name": "stdout",
     "output_type": "stream",
     "text": [
      "\u001b[33mDEPRECATION: Configuring installation scheme with distutils config files is deprecated and will no longer work in the near future. If you are using a Homebrew or Linuxbrew Python, please see discussion at https://github.com/Homebrew/homebrew-core/issues/76621\u001b[0m\u001b[33m\n",
      "\u001b[0mRequirement already satisfied: Levenshtein in /usr/local/lib/python3.9/site-packages (0.25.1)\n",
      "Requirement already satisfied: rapidfuzz<4.0.0,>=3.8.0 in /usr/local/lib/python3.9/site-packages (from Levenshtein) (3.8.1)\n",
      "\u001b[33mDEPRECATION: Configuring installation scheme with distutils config files is deprecated and will no longer work in the near future. If you are using a Homebrew or Linuxbrew Python, please see discussion at https://github.com/Homebrew/homebrew-core/issues/76621\u001b[0m\u001b[33m\n",
      "\u001b[0m\n",
      "\u001b[1m[\u001b[0m\u001b[34;49mnotice\u001b[0m\u001b[1;39;49m]\u001b[0m\u001b[39;49m A new release of pip is available: \u001b[0m\u001b[31;49m23.3.1\u001b[0m\u001b[39;49m -> \u001b[0m\u001b[32;49m24.0\u001b[0m\n",
      "\u001b[1m[\u001b[0m\u001b[34;49mnotice\u001b[0m\u001b[1;39;49m]\u001b[0m\u001b[39;49m To update, run: \u001b[0m\u001b[32;49mpython3.9 -m pip install --upgrade pip\u001b[0m\n"
     ]
    }
   ],
   "source": [
    "!pip install Levenshtein"
   ]
  },
  {
   "cell_type": "code",
   "execution_count": 2,
   "id": "0ff9a6da-0914-4f9b-a1f2-219af1c89c60",
   "metadata": {},
   "outputs": [],
   "source": [
    "import pandas as pd\n",
    "from Levenshtein import matching_blocks, editops, ratio\n",
    "import difflib"
   ]
  },
  {
   "cell_type": "markdown",
   "id": "250e9722-20c6-422f-93d9-77db6aad1658",
   "metadata": {},
   "source": [
    "# Read data"
   ]
  },
  {
   "cell_type": "code",
   "execution_count": 3,
   "id": "b4cd3988-3746-47b0-8481-ac00de5803cf",
   "metadata": {},
   "outputs": [],
   "source": [
    "brands_1_path = \"data/brands_list_1_short.csv\"\n",
    "brands_2_path = \"data/brands_list_2_short.csv\"\n",
    "\n",
    "brands_1 = pd.read_csv(brands_1_path, delimiter=';', header=None)[0]\n",
    "brands_2 = pd.read_csv(brands_2_path, delimiter=';', header=None)[0]\n"
   ]
  },
  {
   "cell_type": "markdown",
   "id": "efa5fbab-8fd1-4d8f-97d0-ec4b42c34866",
   "metadata": {},
   "source": [
    "# Individual similarities"
   ]
  },
  {
   "cell_type": "code",
   "execution_count": 4,
   "id": "a01386fb-499f-42ec-951d-6e28d599d472",
   "metadata": {},
   "outputs": [
    {
     "data": {
      "text/html": [
       "<div>\n",
       "<style scoped>\n",
       "    .dataframe tbody tr th:only-of-type {\n",
       "        vertical-align: middle;\n",
       "    }\n",
       "\n",
       "    .dataframe tbody tr th {\n",
       "        vertical-align: top;\n",
       "    }\n",
       "\n",
       "    .dataframe thead th {\n",
       "        text-align: right;\n",
       "    }\n",
       "</style>\n",
       "<table border=\"1\" class=\"dataframe\">\n",
       "  <thead>\n",
       "    <tr style=\"text-align: right;\">\n",
       "      <th></th>\n",
       "      <th>compared_brand</th>\n",
       "      <th>other_brand</th>\n",
       "      <th>similar_words</th>\n",
       "    </tr>\n",
       "  </thead>\n",
       "  <tbody>\n",
       "    <tr>\n",
       "      <th>2</th>\n",
       "      <td>A2C</td>\n",
       "      <td>A2C GRANULAT</td>\n",
       "      <td>1</td>\n",
       "    </tr>\n",
       "  </tbody>\n",
       "</table>\n",
       "</div>"
      ],
      "text/plain": [
       "  compared_brand   other_brand similar_words\n",
       "2            A2C  A2C GRANULAT             1"
      ]
     },
     "execution_count": 4,
     "metadata": {},
     "output_type": "execute_result"
    }
   ],
   "source": [
    "def similar_words(compared_brand, series_of_brand):\n",
    "    \"\"\"\n",
    "    Compare one word with a series and find number of similar words. \n",
    "\n",
    "    Parameters:\n",
    "    - compared_brand (string): Compared brand.\n",
    "    - series_of_brand (pd.Series): Series of other brands to compare to. \n",
    "    \n",
    "    Returns: \n",
    "    A sorted dataframe where there is at least one similar word.\n",
    "    \"\"\"\n",
    "    intersections = pd.DataFrame(columns=['compared_brand', 'other_brand', 'similar_words'])\n",
    "    \n",
    "    for i in range(len(series_of_brand)):\n",
    "        other_brand = series_of_brand[i]\n",
    "        intersections.loc[i, 'compared_brand'] = compared_brand\n",
    "        intersections.loc[i, 'other_brand'] = other_brand\n",
    "        similar_words = len(set(compared_brand.split()).intersection(set(other_brand.split())))\n",
    "        intersections.loc[i, 'similar_words'] = similar_words\n",
    "    \n",
    "    return intersections[intersections.similar_words > 0].sort_values(by='similar_words', ascending=False)\n",
    "\n",
    "similar_words('A2C', brands_2)"
   ]
  },
  {
   "cell_type": "code",
   "execution_count": 5,
   "id": "9785e102-cc96-4b32-9dc5-c1d8673ab55d",
   "metadata": {},
   "outputs": [
    {
     "data": {
      "text/html": [
       "<div>\n",
       "<style scoped>\n",
       "    .dataframe tbody tr th:only-of-type {\n",
       "        vertical-align: middle;\n",
       "    }\n",
       "\n",
       "    .dataframe tbody tr th {\n",
       "        vertical-align: top;\n",
       "    }\n",
       "\n",
       "    .dataframe thead th {\n",
       "        text-align: right;\n",
       "    }\n",
       "</style>\n",
       "<table border=\"1\" class=\"dataframe\">\n",
       "  <thead>\n",
       "    <tr style=\"text-align: right;\">\n",
       "      <th></th>\n",
       "      <th>compared_brand</th>\n",
       "      <th>other_brand</th>\n",
       "      <th>levenshtein_ratio</th>\n",
       "    </tr>\n",
       "  </thead>\n",
       "  <tbody>\n",
       "    <tr>\n",
       "      <th>11</th>\n",
       "      <td>A2C</td>\n",
       "      <td>ADC</td>\n",
       "      <td>0.666667</td>\n",
       "    </tr>\n",
       "    <tr>\n",
       "      <th>56</th>\n",
       "      <td>A2C</td>\n",
       "      <td>APCO</td>\n",
       "      <td>0.571429</td>\n",
       "    </tr>\n",
       "    <tr>\n",
       "      <th>67</th>\n",
       "      <td>A2C</td>\n",
       "      <td>ARIC</td>\n",
       "      <td>0.571429</td>\n",
       "    </tr>\n",
       "    <tr>\n",
       "      <th>361</th>\n",
       "      <td>A2C</td>\n",
       "      <td>EDAC</td>\n",
       "      <td>0.571429</td>\n",
       "    </tr>\n",
       "  </tbody>\n",
       "</table>\n",
       "</div>"
      ],
      "text/plain": [
       "    compared_brand other_brand levenshtein_ratio\n",
       "11             A2C         ADC          0.666667\n",
       "56             A2C        APCO          0.571429\n",
       "67             A2C        ARIC          0.571429\n",
       "361            A2C        EDAC          0.571429"
      ]
     },
     "execution_count": 5,
     "metadata": {},
     "output_type": "execute_result"
    }
   ],
   "source": [
    "def calculate_levenshtein_ratio(compared_brand, series_of_brand):\n",
    "    \"\"\"\n",
    "    Calculates ratio between a word and a series. \n",
    "\n",
    "    Parameters:\n",
    "    - compared_brand (string): Compared brand.\n",
    "    - series_of_brand (pd.Series): Series of other brands to compare to. \n",
    "    \n",
    "    Returns: \n",
    "    A sorted dataframe where levenshtein_ratio is superior to 0.5.\n",
    "    \"\"\"\n",
    "    levenshtein = pd.DataFrame(columns=['compared_brand', 'other_brand', 'levenshtein_ratio'])\n",
    "\n",
    "    for i in range(len(series_of_brand)):\n",
    "        levenshtein.loc[i, 'compared_brand'] = compared_brand\n",
    "        levenshtein.loc[i, 'other_brand'] = series_of_brand[i]\n",
    "        levenshtein.loc[i, 'levenshtein_ratio'] = ratio(compared_brand, series_of_brand[i])\n",
    "\n",
    "    return levenshtein[levenshtein.levenshtein_ratio > .5].sort_values(by='levenshtein_ratio', ascending=False)\n",
    "\n",
    "calculate_levenshtein_ratio('A2C', brands_2)"
   ]
  },
  {
   "cell_type": "code",
   "execution_count": 6,
   "id": "1429c601-1348-4fe3-abf3-9ae0152e7100",
   "metadata": {
    "scrolled": true
   },
   "outputs": [
    {
     "data": {
      "text/html": [
       "<div>\n",
       "<style scoped>\n",
       "    .dataframe tbody tr th:only-of-type {\n",
       "        vertical-align: middle;\n",
       "    }\n",
       "\n",
       "    .dataframe tbody tr th {\n",
       "        vertical-align: top;\n",
       "    }\n",
       "\n",
       "    .dataframe thead th {\n",
       "        text-align: right;\n",
       "    }\n",
       "</style>\n",
       "<table border=\"1\" class=\"dataframe\">\n",
       "  <thead>\n",
       "    <tr style=\"text-align: right;\">\n",
       "      <th></th>\n",
       "      <th>compared_brand</th>\n",
       "      <th>other_brand</th>\n",
       "      <th>difflib_ratio</th>\n",
       "    </tr>\n",
       "  </thead>\n",
       "  <tbody>\n",
       "    <tr>\n",
       "      <th>11</th>\n",
       "      <td>A2C</td>\n",
       "      <td>ADC</td>\n",
       "      <td>0.666667</td>\n",
       "    </tr>\n",
       "    <tr>\n",
       "      <th>56</th>\n",
       "      <td>A2C</td>\n",
       "      <td>APCO</td>\n",
       "      <td>0.571429</td>\n",
       "    </tr>\n",
       "    <tr>\n",
       "      <th>67</th>\n",
       "      <td>A2C</td>\n",
       "      <td>ARIC</td>\n",
       "      <td>0.571429</td>\n",
       "    </tr>\n",
       "    <tr>\n",
       "      <th>361</th>\n",
       "      <td>A2C</td>\n",
       "      <td>EDAC</td>\n",
       "      <td>0.571429</td>\n",
       "    </tr>\n",
       "  </tbody>\n",
       "</table>\n",
       "</div>"
      ],
      "text/plain": [
       "    compared_brand other_brand difflib_ratio\n",
       "11             A2C         ADC      0.666667\n",
       "56             A2C        APCO      0.571429\n",
       "67             A2C        ARIC      0.571429\n",
       "361            A2C        EDAC      0.571429"
      ]
     },
     "execution_count": 6,
     "metadata": {},
     "output_type": "execute_result"
    }
   ],
   "source": [
    "def difflib_ratio(compared_brand, series_of_brand):\n",
    "    \n",
    "    difflib_df = pd.DataFrame(columns=['compared_brand', 'other_brand', 'difflib_ratio'])\n",
    "\n",
    "    for i in range(len(series_of_brand)):\n",
    "        difflib_sq_matcher = difflib.SequenceMatcher(None, compared_brand, series_of_brand[i])\n",
    "\n",
    "        difflib_df.loc[i, 'compared_brand'] = compared_brand\n",
    "        difflib_df.loc[i, 'other_brand'] = series_of_brand[i]\n",
    "        difflib_df.loc[i, 'difflib_ratio'] = difflib_sq_matcher.ratio()\n",
    "\n",
    "    return difflib_df[difflib_df.difflib_ratio > .5].sort_values(by='difflib_ratio', ascending=False)\n",
    "\n",
    "\n",
    "difflib_ratio('A2C', brands_2)"
   ]
  },
  {
   "cell_type": "markdown",
   "id": "168bd332-0df6-444b-ad9b-6d7153afee39",
   "metadata": {},
   "source": [
    "# Combined similarities"
   ]
  },
  {
   "cell_type": "code",
   "execution_count": 7,
   "id": "3a2bab93-8631-4914-ae9f-c992e6cddd3a",
   "metadata": {},
   "outputs": [
    {
     "data": {
      "text/html": [
       "<div>\n",
       "<style scoped>\n",
       "    .dataframe tbody tr th:only-of-type {\n",
       "        vertical-align: middle;\n",
       "    }\n",
       "\n",
       "    .dataframe tbody tr th {\n",
       "        vertical-align: top;\n",
       "    }\n",
       "\n",
       "    .dataframe thead th {\n",
       "        text-align: right;\n",
       "    }\n",
       "</style>\n",
       "<table border=\"1\" class=\"dataframe\">\n",
       "  <thead>\n",
       "    <tr style=\"text-align: right;\">\n",
       "      <th></th>\n",
       "      <th>compared_brand</th>\n",
       "      <th>other_brand</th>\n",
       "      <th>similar_words</th>\n",
       "      <th>levenshtein_ratio</th>\n",
       "      <th>difflib_ratio</th>\n",
       "    </tr>\n",
       "  </thead>\n",
       "  <tbody>\n",
       "    <tr>\n",
       "      <th>0</th>\n",
       "      <td>A2C</td>\n",
       "      <td>A2C GRANULAT</td>\n",
       "      <td>1</td>\n",
       "      <td>NaN</td>\n",
       "      <td>NaN</td>\n",
       "    </tr>\n",
       "    <tr>\n",
       "      <th>1</th>\n",
       "      <td>A2C</td>\n",
       "      <td>ADC</td>\n",
       "      <td>NaN</td>\n",
       "      <td>0.666667</td>\n",
       "      <td>0.666667</td>\n",
       "    </tr>\n",
       "    <tr>\n",
       "      <th>2</th>\n",
       "      <td>A2C</td>\n",
       "      <td>APCO</td>\n",
       "      <td>NaN</td>\n",
       "      <td>0.571429</td>\n",
       "      <td>0.571429</td>\n",
       "    </tr>\n",
       "    <tr>\n",
       "      <th>3</th>\n",
       "      <td>A2C</td>\n",
       "      <td>ARIC</td>\n",
       "      <td>NaN</td>\n",
       "      <td>0.571429</td>\n",
       "      <td>0.571429</td>\n",
       "    </tr>\n",
       "    <tr>\n",
       "      <th>4</th>\n",
       "      <td>A2C</td>\n",
       "      <td>EDAC</td>\n",
       "      <td>NaN</td>\n",
       "      <td>0.571429</td>\n",
       "      <td>0.571429</td>\n",
       "    </tr>\n",
       "  </tbody>\n",
       "</table>\n",
       "</div>"
      ],
      "text/plain": [
       "  compared_brand   other_brand similar_words levenshtein_ratio difflib_ratio\n",
       "0            A2C  A2C GRANULAT             1               NaN           NaN\n",
       "1            A2C           ADC           NaN          0.666667      0.666667\n",
       "2            A2C          APCO           NaN          0.571429      0.571429\n",
       "3            A2C          ARIC           NaN          0.571429      0.571429\n",
       "4            A2C          EDAC           NaN          0.571429      0.571429"
      ]
     },
     "execution_count": 7,
     "metadata": {},
     "output_type": "execute_result"
    }
   ],
   "source": [
    "def combine_similarities(compared_brand, series_of_brands):\n",
    "    \"\"\"Returns a dataframe where similar words > 0 and ratios > .5\"\"\"\n",
    "    \n",
    "    combined_similarities = pd.DataFrame(columns=['compared_brand', 'other_brand', 'similar_words', 'levenshtein_ratio', 'difflib_ratio'])\n",
    "    \n",
    "    similar_words_df = similar_words(compared_brand, series_of_brands)\n",
    "    levenshtein_ratio_df = calculate_levenshtein_ratio(compared_brand, series_of_brands)\n",
    "    difflib_ratio_df = difflib_ratio(compared_brand, series_of_brands)\n",
    "    \n",
    "    combined_similarities = pd.merge(similar_words_df, levenshtein_ratio_df, on=['compared_brand', 'other_brand'], how='outer')\n",
    "    combined_similarities = pd.merge(combined_similarities, difflib_ratio_df, on=['compared_brand', 'other_brand'], how='outer')\n",
    "\n",
    "    return combined_similarities\n",
    "\n",
    "combine_similarities('A2C', brands_2)"
   ]
  },
  {
   "cell_type": "markdown",
   "id": "dc976d10-f99f-4f4f-a07f-3ac1a778ce59",
   "metadata": {},
   "source": [
    "# Execute for all brands"
   ]
  },
  {
   "cell_type": "code",
   "execution_count": 8,
   "id": "b571fd37-72b4-417a-b204-116fd111dcd2",
   "metadata": {},
   "outputs": [],
   "source": [
    "for i in range(len(brands_1)):\n",
    "    combine_similarities(brands_1[i], brands_2)"
   ]
  },
  {
   "cell_type": "code",
   "execution_count": null,
   "id": "cf03c8f1-1acd-489c-afcc-d580f06a7c1d",
   "metadata": {},
   "outputs": [],
   "source": []
  }
 ],
 "metadata": {
  "kernelspec": {
   "display_name": "Python 3 (ipykernel)",
   "language": "python",
   "name": "python3"
  },
  "language_info": {
   "codemirror_mode": {
    "name": "ipython",
    "version": 3
   },
   "file_extension": ".py",
   "mimetype": "text/x-python",
   "name": "python",
   "nbconvert_exporter": "python",
   "pygments_lexer": "ipython3",
   "version": "3.9.18"
  }
 },
 "nbformat": 4,
 "nbformat_minor": 5
}
