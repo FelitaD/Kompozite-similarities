{
 "cells": [
  {
   "cell_type": "code",
   "execution_count": 1,
   "id": "cd64bacc-6e67-4582-afed-828f9ae5d877",
   "metadata": {},
   "outputs": [],
   "source": [
    "import pandas as pd\n",
    "from Levenshtein import matching_blocks, editops, ratio\n",
    "import difflib"
   ]
  },
  {
   "cell_type": "code",
   "execution_count": 2,
   "id": "b19eebf5-3346-4b53-aae8-1e6928fce5c7",
   "metadata": {},
   "outputs": [
    {
     "name": "stdout",
     "output_type": "stream",
     "text": [
      "\u001b[33mDEPRECATION: Configuring installation scheme with distutils config files is deprecated and will no longer work in the near future. If you are using a Homebrew or Linuxbrew Python, please see discussion at https://github.com/Homebrew/homebrew-core/issues/76621\u001b[0m\u001b[33m\n",
      "\u001b[0mRequirement already satisfied: Levenshtein in /usr/local/lib/python3.9/site-packages (0.25.1)\n",
      "Requirement already satisfied: rapidfuzz<4.0.0,>=3.8.0 in /usr/local/lib/python3.9/site-packages (from Levenshtein) (3.8.1)\n",
      "\u001b[33mDEPRECATION: Configuring installation scheme with distutils config files is deprecated and will no longer work in the near future. If you are using a Homebrew or Linuxbrew Python, please see discussion at https://github.com/Homebrew/homebrew-core/issues/76621\u001b[0m\u001b[33m\n",
      "\u001b[0m\n",
      "\u001b[1m[\u001b[0m\u001b[34;49mnotice\u001b[0m\u001b[1;39;49m]\u001b[0m\u001b[39;49m A new release of pip is available: \u001b[0m\u001b[31;49m23.3.1\u001b[0m\u001b[39;49m -> \u001b[0m\u001b[32;49m24.0\u001b[0m\n",
      "\u001b[1m[\u001b[0m\u001b[34;49mnotice\u001b[0m\u001b[1;39;49m]\u001b[0m\u001b[39;49m To update, run: \u001b[0m\u001b[32;49mpython3.9 -m pip install --upgrade pip\u001b[0m\n"
     ]
    }
   ],
   "source": [
    "!pip install Levenshtein"
   ]
  },
  {
   "cell_type": "markdown",
   "id": "d3b01f69-1f81-480e-bb44-f1b6c0b30a1d",
   "metadata": {},
   "source": [
    "# Read data"
   ]
  },
  {
   "cell_type": "code",
   "execution_count": 3,
   "id": "313e139a-7810-49f7-8ae7-d95a95d93856",
   "metadata": {},
   "outputs": [
    {
     "name": "stdout",
     "output_type": "stream",
     "text": [
      "0               2 EMME CLIMA\n",
      "1              3A COMPOSITES\n",
      "2                    3-EN-UN\n",
      "3                         3M\n",
      "4                        A2C\n",
      "                ...         \n",
      "1043               KRONOSPAN\n",
      "1044    KRONOSPAN LUXEMBOURG\n",
      "1045                     KSB\n",
      "1046           KTL CERAMICAS\n",
      "1047                     KWC\n",
      "Name: 0, Length: 1048, dtype: object\n",
      "0      3M BRICOLAGE ET BATIMENT\n",
      "1                         A.T.E\n",
      "2                  A2C GRANULAT\n",
      "3                 ABIES AUSTRIA\n",
      "4        ABM AIX BOIS MATERIAUX\n",
      "                 ...           \n",
      "668          KRONIMUS MAIZIERES\n",
      "669     KRONOSPAN LUXEMBOURG SA\n",
      "670               KRONOSPAN SAS\n",
      "671                    KS TOOLS\n",
      "672        KYOCERA SENCO FRANCE\n",
      "Name: 0, Length: 673, dtype: object\n"
     ]
    }
   ],
   "source": [
    "brands_1_path = \"data/brands_list_1_short.csv\"\n",
    "brands_2_path = \"data/brands_list_2_short.csv\"\n",
    "\n",
    "brands_1 = pd.read_csv(brands_1_path, delimiter=';', header=None)[0]\n",
    "brands_2 = pd.read_csv(brands_2_path, delimiter=';', header=None)[0]\n",
    "\n",
    "print(brands_1)\n",
    "print(brands_2)"
   ]
  },
  {
   "cell_type": "markdown",
   "id": "a1b04260-cb53-4c4e-ae52-58602ad6fe42",
   "metadata": {},
   "source": [
    "# Similar words\n",
    "Find exact word match between a brand and a series of brands"
   ]
  },
  {
   "cell_type": "code",
   "execution_count": 4,
   "id": "a6847ebf-4168-45e0-8cab-d46d7b9b838a",
   "metadata": {},
   "outputs": [],
   "source": [
    "def similar_words(compared_brand, series_of_brand):\n",
    "    \"\"\"\n",
    "    Compare one word with a series and find number of similar words. \n",
    "\n",
    "    Parameters:\n",
    "    - compared_brand (string): Compared brand.\n",
    "    - series_of_brand (pd.Series): Series of other brands to compare to. \n",
    "    \n",
    "    Returns: \n",
    "    A sorted dataframe where there is at least one similar word.\n",
    "    \"\"\"\n",
    "    intersections = pd.DataFrame(columns=['compared_brand', 'other_brand', 'similar_words'])\n",
    "    \n",
    "    for i in range(len(series_of_brand)):\n",
    "        other_brand = series_of_brand[i]\n",
    "        intersections.loc[i, 'compared_brand'] = compared_brand\n",
    "        intersections.loc[i, 'other_brand'] = other_brand\n",
    "        similar_words = len(set(compared_brand.split()).intersection(set(other_brand.split())))\n",
    "        intersections.loc[i, 'similar_words'] = similar_words\n",
    "    \n",
    "    return intersections[intersections.similar_words > 0].sort_values(by='similar_words', ascending=False)"
   ]
  },
  {
   "cell_type": "code",
   "execution_count": 5,
   "id": "9e42a906-75da-409b-8bbb-9c41a27edd22",
   "metadata": {},
   "outputs": [
    {
     "data": {
      "text/html": [
       "<div>\n",
       "<style scoped>\n",
       "    .dataframe tbody tr th:only-of-type {\n",
       "        vertical-align: middle;\n",
       "    }\n",
       "\n",
       "    .dataframe tbody tr th {\n",
       "        vertical-align: top;\n",
       "    }\n",
       "\n",
       "    .dataframe thead th {\n",
       "        text-align: right;\n",
       "    }\n",
       "</style>\n",
       "<table border=\"1\" class=\"dataframe\">\n",
       "  <thead>\n",
       "    <tr style=\"text-align: right;\">\n",
       "      <th></th>\n",
       "      <th>compared_brand</th>\n",
       "      <th>other_brand</th>\n",
       "      <th>similar_words</th>\n",
       "    </tr>\n",
       "  </thead>\n",
       "  <tbody>\n",
       "    <tr>\n",
       "      <th>13</th>\n",
       "      <td>BETON</td>\n",
       "      <td>ADG BETON INDUSTRIEL SA</td>\n",
       "      <td>1</td>\n",
       "    </tr>\n",
       "    <tr>\n",
       "      <th>125</th>\n",
       "      <td>BETON</td>\n",
       "      <td>BETON CONTROLE GARD ARDEC</td>\n",
       "      <td>1</td>\n",
       "    </tr>\n",
       "    <tr>\n",
       "      <th>126</th>\n",
       "      <td>BETON</td>\n",
       "      <td>BETON DE LA HAUTE-SEINE</td>\n",
       "      <td>1</td>\n",
       "    </tr>\n",
       "    <tr>\n",
       "      <th>127</th>\n",
       "      <td>BETON</td>\n",
       "      <td>BETON VICAT</td>\n",
       "      <td>1</td>\n",
       "    </tr>\n",
       "    <tr>\n",
       "      <th>206</th>\n",
       "      <td>BETON</td>\n",
       "      <td>CBS BETON</td>\n",
       "      <td>1</td>\n",
       "    </tr>\n",
       "    <tr>\n",
       "      <th>324</th>\n",
       "      <td>BETON</td>\n",
       "      <td>DIJON BETON</td>\n",
       "      <td>1</td>\n",
       "    </tr>\n",
       "    <tr>\n",
       "      <th>392</th>\n",
       "      <td>BETON</td>\n",
       "      <td>EQIOM GROUPE CRH - BETON</td>\n",
       "      <td>1</td>\n",
       "    </tr>\n",
       "    <tr>\n",
       "      <th>462</th>\n",
       "      <td>BETON</td>\n",
       "      <td>FINGER BETON KUHARDT</td>\n",
       "      <td>1</td>\n",
       "    </tr>\n",
       "    <tr>\n",
       "      <th>521</th>\n",
       "      <td>BETON</td>\n",
       "      <td>GISONE BETON VIBRE</td>\n",
       "      <td>1</td>\n",
       "    </tr>\n",
       "  </tbody>\n",
       "</table>\n",
       "</div>"
      ],
      "text/plain": [
       "    compared_brand                other_brand similar_words\n",
       "13           BETON    ADG BETON INDUSTRIEL SA             1\n",
       "125          BETON  BETON CONTROLE GARD ARDEC             1\n",
       "126          BETON    BETON DE LA HAUTE-SEINE             1\n",
       "127          BETON                BETON VICAT             1\n",
       "206          BETON                  CBS BETON             1\n",
       "324          BETON                DIJON BETON             1\n",
       "392          BETON   EQIOM GROUPE CRH - BETON             1\n",
       "462          BETON       FINGER BETON KUHARDT             1\n",
       "521          BETON         GISONE BETON VIBRE             1"
      ]
     },
     "execution_count": 5,
     "metadata": {},
     "output_type": "execute_result"
    }
   ],
   "source": [
    "similar_words('BETON', brands_2)"
   ]
  },
  {
   "cell_type": "code",
   "execution_count": 6,
   "id": "bea46c72-3e00-4902-9c91-acd7d9c71c71",
   "metadata": {},
   "outputs": [
    {
     "data": {
      "text/html": [
       "<div>\n",
       "<style scoped>\n",
       "    .dataframe tbody tr th:only-of-type {\n",
       "        vertical-align: middle;\n",
       "    }\n",
       "\n",
       "    .dataframe tbody tr th {\n",
       "        vertical-align: top;\n",
       "    }\n",
       "\n",
       "    .dataframe thead th {\n",
       "        text-align: right;\n",
       "    }\n",
       "</style>\n",
       "<table border=\"1\" class=\"dataframe\">\n",
       "  <thead>\n",
       "    <tr style=\"text-align: right;\">\n",
       "      <th></th>\n",
       "      <th>compared_brand</th>\n",
       "      <th>other_brand</th>\n",
       "      <th>similar_words</th>\n",
       "    </tr>\n",
       "  </thead>\n",
       "  <tbody>\n",
       "    <tr>\n",
       "      <th>128</th>\n",
       "      <td>BETONS</td>\n",
       "      <td>BETONS MATERIAUX CONTROLE</td>\n",
       "      <td>1</td>\n",
       "    </tr>\n",
       "    <tr>\n",
       "      <th>129</th>\n",
       "      <td>BETONS</td>\n",
       "      <td>BETONS OCCITANS</td>\n",
       "      <td>1</td>\n",
       "    </tr>\n",
       "    <tr>\n",
       "      <th>211</th>\n",
       "      <td>BETONS</td>\n",
       "      <td>CEMEX BETONS SUD EST</td>\n",
       "      <td>1</td>\n",
       "    </tr>\n",
       "    <tr>\n",
       "      <th>212</th>\n",
       "      <td>BETONS</td>\n",
       "      <td>CEMEX BETONS SUD OUEST</td>\n",
       "      <td>1</td>\n",
       "    </tr>\n",
       "  </tbody>\n",
       "</table>\n",
       "</div>"
      ],
      "text/plain": [
       "    compared_brand                other_brand similar_words\n",
       "128         BETONS  BETONS MATERIAUX CONTROLE             1\n",
       "129         BETONS            BETONS OCCITANS             1\n",
       "211         BETONS       CEMEX BETONS SUD EST             1\n",
       "212         BETONS     CEMEX BETONS SUD OUEST             1"
      ]
     },
     "execution_count": 6,
     "metadata": {},
     "output_type": "execute_result"
    }
   ],
   "source": [
    "similar_words('BETONS', brands_2)"
   ]
  },
  {
   "cell_type": "markdown",
   "id": "656425e9-f9a1-45ae-8b01-211c6d56933f",
   "metadata": {},
   "source": [
    "# Levenshtein Ratio\n",
    "https://rapidfuzz.github.io/Levenshtein/levenshtein.html#Levenshtein.ratio\n",
    "\n",
    "Calculates a normalized indel similarity in the range [0, 1]. The indel distance calculates the minimum number of insertions and deletions required to change one sequence into the other."
   ]
  },
  {
   "cell_type": "code",
   "execution_count": 7,
   "id": "4b667402-f87c-4e9a-98f8-e36787f8bc46",
   "metadata": {},
   "outputs": [],
   "source": [
    "def calculate_levenshtein_ratio(compared_brand, series_of_brand):\n",
    "    \"\"\"\n",
    "    Calculates ratio between a word and a series. \n",
    "\n",
    "    Parameters:\n",
    "    - compared_brand (string): Compared brand.\n",
    "    - series_of_brand (pd.Series): Series of other brands to compare to. \n",
    "    \n",
    "    Returns: \n",
    "    A sorted dataframe where ratio is superior to 0.5.\n",
    "    \"\"\"\n",
    "    res_ratio = pd.Series(index=range(len(series_of_brand)), name='ratio')\n",
    "    for i in range(len(series_of_brand)):\n",
    "        res_ratio[i] = ratio(compared_brand, series_of_brand[i])\n",
    "    \n",
    "    res_merged = pd.merge(series_of_brand, res_ratio, left_index=True, right_index=True)\n",
    "    sorted_ratios = res_merged.sort_values(by='ratio', ascending=False)\n",
    "\n",
    "    return sorted_ratios"
   ]
  },
  {
   "cell_type": "code",
   "execution_count": 8,
   "id": "7ec2ade9-4d00-446f-9881-cd683e5f0390",
   "metadata": {
    "scrolled": true
   },
   "outputs": [
    {
     "name": "stderr",
     "output_type": "stream",
     "text": [
      "/var/folders/m_/2w2qlxsn13s9qyf11rtgzkkr0000gn/T/ipykernel_81706/3197432269.py:14: FutureWarning: The default dtype for empty Series will be 'object' instead of 'float64' in a future version. Specify a dtype explicitly to silence this warning.\n",
      "  res_ratio = pd.Series(index=range(len(series_of_brand)), name='ratio')\n"
     ]
    },
    {
     "data": {
      "text/html": [
       "<div>\n",
       "<style scoped>\n",
       "    .dataframe tbody tr th:only-of-type {\n",
       "        vertical-align: middle;\n",
       "    }\n",
       "\n",
       "    .dataframe tbody tr th {\n",
       "        vertical-align: top;\n",
       "    }\n",
       "\n",
       "    .dataframe thead th {\n",
       "        text-align: right;\n",
       "    }\n",
       "</style>\n",
       "<table border=\"1\" class=\"dataframe\">\n",
       "  <thead>\n",
       "    <tr style=\"text-align: right;\">\n",
       "      <th></th>\n",
       "      <th>0</th>\n",
       "      <th>ratio</th>\n",
       "    </tr>\n",
       "  </thead>\n",
       "  <tbody>\n",
       "    <tr>\n",
       "      <th>459</th>\n",
       "      <td>FINCIBEC (MONOCIBEC)</td>\n",
       "      <td>0.620690</td>\n",
       "    </tr>\n",
       "    <tr>\n",
       "      <th>330</th>\n",
       "      <td>DISMO FRANCE</td>\n",
       "      <td>0.476190</td>\n",
       "    </tr>\n",
       "    <tr>\n",
       "      <th>267</th>\n",
       "      <td>CONCILIO</td>\n",
       "      <td>0.470588</td>\n",
       "    </tr>\n",
       "    <tr>\n",
       "      <th>158</th>\n",
       "      <td>BONNEFOY BBCI</td>\n",
       "      <td>0.454545</td>\n",
       "    </tr>\n",
       "    <tr>\n",
       "      <th>387</th>\n",
       "      <td>EPDM PROVENCE</td>\n",
       "      <td>0.454545</td>\n",
       "    </tr>\n",
       "    <tr>\n",
       "      <th>...</th>\n",
       "      <td>...</td>\n",
       "      <td>...</td>\n",
       "    </tr>\n",
       "    <tr>\n",
       "      <th>86</th>\n",
       "      <td>AUDY SAS</td>\n",
       "      <td>0.000000</td>\n",
       "    </tr>\n",
       "    <tr>\n",
       "      <th>356</th>\n",
       "      <td>DYKA SAS</td>\n",
       "      <td>0.000000</td>\n",
       "    </tr>\n",
       "    <tr>\n",
       "      <th>649</th>\n",
       "      <td>JTS</td>\n",
       "      <td>0.000000</td>\n",
       "    </tr>\n",
       "    <tr>\n",
       "      <th>516</th>\n",
       "      <td>GFD</td>\n",
       "      <td>0.000000</td>\n",
       "    </tr>\n",
       "    <tr>\n",
       "      <th>565</th>\n",
       "      <td>GYS</td>\n",
       "      <td>0.000000</td>\n",
       "    </tr>\n",
       "  </tbody>\n",
       "</table>\n",
       "<p>673 rows × 2 columns</p>\n",
       "</div>"
      ],
      "text/plain": [
       "                        0     ratio\n",
       "459  FINCIBEC (MONOCIBEC)  0.620690\n",
       "330          DISMO FRANCE  0.476190\n",
       "267              CONCILIO  0.470588\n",
       "158         BONNEFOY BBCI  0.454545\n",
       "387         EPDM PROVENCE  0.454545\n",
       "..                    ...       ...\n",
       "86               AUDY SAS  0.000000\n",
       "356              DYKA SAS  0.000000\n",
       "649                   JTS  0.000000\n",
       "516                   GFD  0.000000\n",
       "565                   GYS  0.000000\n",
       "\n",
       "[673 rows x 2 columns]"
      ]
     },
     "execution_count": 8,
     "metadata": {},
     "output_type": "execute_result"
    }
   ],
   "source": [
    "calculate_levenshtein_ratio('MONOCIBEC', brands_2)"
   ]
  },
  {
   "cell_type": "code",
   "execution_count": 9,
   "id": "64f85570-981b-4286-97a0-bc6639e4fa17",
   "metadata": {},
   "outputs": [
    {
     "name": "stderr",
     "output_type": "stream",
     "text": [
      "/var/folders/m_/2w2qlxsn13s9qyf11rtgzkkr0000gn/T/ipykernel_81706/3197432269.py:14: FutureWarning: The default dtype for empty Series will be 'object' instead of 'float64' in a future version. Specify a dtype explicitly to silence this warning.\n",
      "  res_ratio = pd.Series(index=range(len(series_of_brand)), name='ratio')\n"
     ]
    },
    {
     "data": {
      "text/html": [
       "<div>\n",
       "<style scoped>\n",
       "    .dataframe tbody tr th:only-of-type {\n",
       "        vertical-align: middle;\n",
       "    }\n",
       "\n",
       "    .dataframe tbody tr th {\n",
       "        vertical-align: top;\n",
       "    }\n",
       "\n",
       "    .dataframe thead th {\n",
       "        text-align: right;\n",
       "    }\n",
       "</style>\n",
       "<table border=\"1\" class=\"dataframe\">\n",
       "  <thead>\n",
       "    <tr style=\"text-align: right;\">\n",
       "      <th></th>\n",
       "      <th>0</th>\n",
       "      <th>ratio</th>\n",
       "    </tr>\n",
       "  </thead>\n",
       "  <tbody>\n",
       "    <tr>\n",
       "      <th>121</th>\n",
       "      <td>BERGON</td>\n",
       "      <td>0.727273</td>\n",
       "    </tr>\n",
       "    <tr>\n",
       "      <th>206</th>\n",
       "      <td>CBS BETON</td>\n",
       "      <td>0.714286</td>\n",
       "    </tr>\n",
       "    <tr>\n",
       "      <th>127</th>\n",
       "      <td>BETON VICAT</td>\n",
       "      <td>0.625000</td>\n",
       "    </tr>\n",
       "    <tr>\n",
       "      <th>324</th>\n",
       "      <td>DIJON BETON</td>\n",
       "      <td>0.625000</td>\n",
       "    </tr>\n",
       "    <tr>\n",
       "      <th>632</th>\n",
       "      <td>ITRON</td>\n",
       "      <td>0.600000</td>\n",
       "    </tr>\n",
       "    <tr>\n",
       "      <th>...</th>\n",
       "      <td>...</td>\n",
       "      <td>...</td>\n",
       "    </tr>\n",
       "    <tr>\n",
       "      <th>284</th>\n",
       "      <td>CRP</td>\n",
       "      <td>0.000000</td>\n",
       "    </tr>\n",
       "    <tr>\n",
       "      <th>439</th>\n",
       "      <td>FDI - SAS</td>\n",
       "      <td>0.000000</td>\n",
       "    </tr>\n",
       "    <tr>\n",
       "      <th>63</th>\n",
       "      <td>ARCM 26</td>\n",
       "      <td>0.000000</td>\n",
       "    </tr>\n",
       "    <tr>\n",
       "      <th>433</th>\n",
       "      <td>FALPA</td>\n",
       "      <td>0.000000</td>\n",
       "    </tr>\n",
       "    <tr>\n",
       "      <th>565</th>\n",
       "      <td>GYS</td>\n",
       "      <td>0.000000</td>\n",
       "    </tr>\n",
       "  </tbody>\n",
       "</table>\n",
       "<p>673 rows × 2 columns</p>\n",
       "</div>"
      ],
      "text/plain": [
       "               0     ratio\n",
       "121       BERGON  0.727273\n",
       "206    CBS BETON  0.714286\n",
       "127  BETON VICAT  0.625000\n",
       "324  DIJON BETON  0.625000\n",
       "632        ITRON  0.600000\n",
       "..           ...       ...\n",
       "284          CRP  0.000000\n",
       "439    FDI - SAS  0.000000\n",
       "63       ARCM 26  0.000000\n",
       "433        FALPA  0.000000\n",
       "565          GYS  0.000000\n",
       "\n",
       "[673 rows x 2 columns]"
      ]
     },
     "execution_count": 9,
     "metadata": {},
     "output_type": "execute_result"
    }
   ],
   "source": [
    "calculate_levenshtein_ratio('BETON', brands_2)"
   ]
  },
  {
   "cell_type": "markdown",
   "id": "3ac42e0a-a484-41b8-bb8f-1a067adf5293",
   "metadata": {},
   "source": [
    "The results show that the substitution calculation is not always accurate to predict similarity.\n",
    "For BETON, CBS BETON should be higher than BERGON."
   ]
  },
  {
   "cell_type": "markdown",
   "id": "efa5a161-a41b-4f44-ba53-aa5c68808797",
   "metadata": {},
   "source": [
    "# Difflib\n",
    "Comparison of Levenshtein and difflib: \n",
    "https://stackoverflow.com/questions/6690739/high-performance-fuzzy-string-comparison-in-python-use-levenshtein-or-difflib"
   ]
  },
  {
   "cell_type": "code",
   "execution_count": 10,
   "id": "d9043865-01c7-42fe-b49c-873472e079f8",
   "metadata": {},
   "outputs": [],
   "source": [
    "s = difflib.SequenceMatcher(None, 'MONOCIBEC', 'FINCIBEC (MONOCIBEC)')"
   ]
  },
  {
   "cell_type": "code",
   "execution_count": 11,
   "id": "24fd67df-66c0-4348-949c-8097c6a0e3ec",
   "metadata": {},
   "outputs": [
    {
     "data": {
      "text/plain": [
       "0.6206896551724138"
      ]
     },
     "execution_count": 11,
     "metadata": {},
     "output_type": "execute_result"
    }
   ],
   "source": [
    "s.ratio()"
   ]
  },
  {
   "cell_type": "code",
   "execution_count": 12,
   "id": "1cba844b-ec33-486a-bbb7-ffece7bed2cc",
   "metadata": {},
   "outputs": [
    {
     "data": {
      "text/plain": [
       "0.6206896551724138"
      ]
     },
     "execution_count": 12,
     "metadata": {},
     "output_type": "execute_result"
    }
   ],
   "source": [
    "s.quick_ratio()"
   ]
  },
  {
   "cell_type": "code",
   "execution_count": 13,
   "id": "f2a97bcd-17c4-4c3b-86e5-9d051e6d09a7",
   "metadata": {},
   "outputs": [
    {
     "data": {
      "text/plain": [
       "0.6206896551724138"
      ]
     },
     "execution_count": 13,
     "metadata": {},
     "output_type": "execute_result"
    }
   ],
   "source": [
    "s.real_quick_ratio()"
   ]
  },
  {
   "cell_type": "code",
   "execution_count": 16,
   "id": "676fecb4-a1dc-4b8f-af0e-57594b2f0fe0",
   "metadata": {},
   "outputs": [
    {
     "name": "stderr",
     "output_type": "stream",
     "text": [
      "/var/folders/m_/2w2qlxsn13s9qyf11rtgzkkr0000gn/T/ipykernel_81706/27971723.py:3: FutureWarning: The default dtype for empty Series will be 'object' instead of 'float64' in a future version. Specify a dtype explicitly to silence this warning.\n",
      "  res_ratio = pd.Series(index=range(len(series_of_brand)), name='difflib_ratio')\n"
     ]
    },
    {
     "data": {
      "text/html": [
       "<div>\n",
       "<style scoped>\n",
       "    .dataframe tbody tr th:only-of-type {\n",
       "        vertical-align: middle;\n",
       "    }\n",
       "\n",
       "    .dataframe tbody tr th {\n",
       "        vertical-align: top;\n",
       "    }\n",
       "\n",
       "    .dataframe thead th {\n",
       "        text-align: right;\n",
       "    }\n",
       "</style>\n",
       "<table border=\"1\" class=\"dataframe\">\n",
       "  <thead>\n",
       "    <tr style=\"text-align: right;\">\n",
       "      <th></th>\n",
       "      <th>0</th>\n",
       "      <th>difflib_ratio</th>\n",
       "    </tr>\n",
       "  </thead>\n",
       "  <tbody>\n",
       "    <tr>\n",
       "      <th>459</th>\n",
       "      <td>FINCIBEC (MONOCIBEC)</td>\n",
       "      <td>0.620690</td>\n",
       "    </tr>\n",
       "    <tr>\n",
       "      <th>330</th>\n",
       "      <td>DISMO FRANCE</td>\n",
       "      <td>0.476190</td>\n",
       "    </tr>\n",
       "    <tr>\n",
       "      <th>267</th>\n",
       "      <td>CONCILIO</td>\n",
       "      <td>0.470588</td>\n",
       "    </tr>\n",
       "    <tr>\n",
       "      <th>387</th>\n",
       "      <td>EPDM PROVENCE</td>\n",
       "      <td>0.454545</td>\n",
       "    </tr>\n",
       "    <tr>\n",
       "      <th>158</th>\n",
       "      <td>BONNEFOY BBCI</td>\n",
       "      <td>0.454545</td>\n",
       "    </tr>\n",
       "    <tr>\n",
       "      <th>...</th>\n",
       "      <td>...</td>\n",
       "      <td>...</td>\n",
       "    </tr>\n",
       "    <tr>\n",
       "      <th>516</th>\n",
       "      <td>GFD</td>\n",
       "      <td>0.000000</td>\n",
       "    </tr>\n",
       "    <tr>\n",
       "      <th>86</th>\n",
       "      <td>AUDY SAS</td>\n",
       "      <td>0.000000</td>\n",
       "    </tr>\n",
       "    <tr>\n",
       "      <th>356</th>\n",
       "      <td>DYKA SAS</td>\n",
       "      <td>0.000000</td>\n",
       "    </tr>\n",
       "    <tr>\n",
       "      <th>433</th>\n",
       "      <td>FALPA</td>\n",
       "      <td>0.000000</td>\n",
       "    </tr>\n",
       "    <tr>\n",
       "      <th>649</th>\n",
       "      <td>JTS</td>\n",
       "      <td>0.000000</td>\n",
       "    </tr>\n",
       "  </tbody>\n",
       "</table>\n",
       "<p>673 rows × 2 columns</p>\n",
       "</div>"
      ],
      "text/plain": [
       "                        0  difflib_ratio\n",
       "459  FINCIBEC (MONOCIBEC)       0.620690\n",
       "330          DISMO FRANCE       0.476190\n",
       "267              CONCILIO       0.470588\n",
       "387         EPDM PROVENCE       0.454545\n",
       "158         BONNEFOY BBCI       0.454545\n",
       "..                    ...            ...\n",
       "516                   GFD       0.000000\n",
       "86               AUDY SAS       0.000000\n",
       "356              DYKA SAS       0.000000\n",
       "433                 FALPA       0.000000\n",
       "649                   JTS       0.000000\n",
       "\n",
       "[673 rows x 2 columns]"
      ]
     },
     "execution_count": 16,
     "metadata": {},
     "output_type": "execute_result"
    }
   ],
   "source": [
    "def sequence_matcher(compared_brand, series_of_brand):\n",
    "    \n",
    "    res_ratio = pd.Series(index=range(len(series_of_brand)), name='difflib_ratio')\n",
    "\n",
    "    for i in range(len(series_of_brand)):\n",
    "        s = difflib.SequenceMatcher(None, compared_brand, series_of_brand[i])\n",
    "        res_ratio[i] = s.ratio()\n",
    "\n",
    "    res_merged = pd.merge(series_of_brand, res_ratio, left_index=True, right_index=True)\n",
    "    sorted_ratios = res_merged.sort_values(by='difflib_ratio', ascending=False)\n",
    "\n",
    "    return sorted_ratios\n",
    "\n",
    "sequence_matcher('MONOCIBEC', brands_2)"
   ]
  },
  {
   "cell_type": "code",
   "execution_count": null,
   "id": "a0a08366-ab36-4c28-bc20-675b21b55a51",
   "metadata": {},
   "outputs": [],
   "source": [
    "sequence_matcher()"
   ]
  }
 ],
 "metadata": {
  "kernelspec": {
   "display_name": "Python 3 (ipykernel)",
   "language": "python",
   "name": "python3"
  },
  "language_info": {
   "codemirror_mode": {
    "name": "ipython",
    "version": 3
   },
   "file_extension": ".py",
   "mimetype": "text/x-python",
   "name": "python",
   "nbconvert_exporter": "python",
   "pygments_lexer": "ipython3",
   "version": "3.9.18"
  }
 },
 "nbformat": 4,
 "nbformat_minor": 5
}
